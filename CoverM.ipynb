{
 "cells": [
  {
   "cell_type": "markdown",
   "metadata": {},
   "source": [
    "# CoverM"
   ]
  },
  {
   "cell_type": "code",
   "execution_count": null,
   "metadata": {
    "vscode": {
     "languageId": "plaintext"
    }
   },
   "outputs": [],
   "source": [
    "conda install -c bioconda coverm"
   ]
  },
  {
   "cell_type": "markdown",
   "metadata": {},
   "source": [
    "Contig Mode"
   ]
  },
  {
   "cell_type": "code",
   "execution_count": null,
   "metadata": {
    "vscode": {
     "languageId": "plaintext"
    }
   },
   "outputs": [],
   "source": [
    "coverm contig -1 <Samples/Sample_134807_R1_trim.fastq.gz>\n",
    "coverm contig -2 <Samples/Sample_134807_R2_trim.fastq.gz>\n",
    "\n",
    "\n",
    "coverm contig --coupled Sample_134807_R1_trim.fastq.gz Sample_134807_R2_trim.fastq.gz \n",
    "\n",
    "coverm contig --coupled -1 Sample_134807_R1_trim.fastq.gz -2 Sample_134807_R2_trim.fastq.gz --reference Buoyancy_Genes.fasta\n",
    "\n",
    "\n",
    "\n",
    "coverm contig <MAPPING_INPUT>\n",
    "\n",
    "<Sample_134807_R1_trim.fastq.gz> <Sample_134807_R2_trim.fastq.gz>\n",
    "\n",
    "coverm contig --coupled Sample_134807_R1_trim.fastq.gz Sample_134807_R2_trim.fastq.gz --reference Buoyancy_Genes.fasta"
   ]
  },
  {
   "cell_type": "markdown",
   "metadata": {},
   "source": [
    "coverm contig --contig-end-exclusion <contig-end-exclusion> \n",
    "--coupled <coupled>... --interleaved<interleaved>... \n",
    "--mapper <mapper> --methods <methods>... \n",
    "--min-covered-fraction <min-covered-fraction> \n",
    "--output-format <output-format> -1 <read1>... -2 <read2>... \n",
    "--reference <reference>... --single <single>... \n",
    "--threads <threads> \n",
    "--trim-max <trim-max> \n",
    "--trim-min <trim-min>"
   ]
  },
  {
   "cell_type": "markdown",
   "metadata": {},
   "source": [
    "# READ MAPPING PARAMETERS\n",
    "\n"
   ]
  },
  {
   "cell_type": "code",
   "execution_count": null,
   "metadata": {
    "vscode": {
     "languageId": "plaintext"
    }
   },
   "outputs": [],
   "source": [
    "coverm contig <MAPPING_INPUT> ..\n",
    "\n",
    "-1 PATH ..\n",
    "    Forward FASTA/Q file(s) for mapping. These may be gzipped or not.\n",
    "\n",
    "-2 PATH ..\n",
    "    Reverse FASTA/Q file(s) for mapping. These may be gzipped or not.\n",
    "\n",
    "-c, --coupled PATH ..\n",
    "    One or more pairs of forward and reverse possibly gzipped FASTA/Q files for mapping in order <sample1_R1.fq.gz> <sample1_R2.fq.gz> <sample2_R1.fq.gz> <sample2_R2.fq.gz> ..\n",
    "    <Sample_134807_R1_trim.fastq.gz> <Sample_134807_R2_trim.fastq.gz>\n",
    "\n",
    "\n",
    "--interleaved PATH ..\n",
    "    Interleaved FASTA/Q files(s) for mapping. These may be gzipped or not.\n",
    "\n",
    "--single PATH ..\n",
    "    Unpaired FASTA/Q files(s) for mapping. These may be gzipped or not.\n",
    "\n"
   ]
  },
  {
   "cell_type": "markdown",
   "metadata": {},
   "source": [
    "# REFERENCE"
   ]
  },
  {
   "cell_type": "markdown",
   "metadata": {},
   "source": []
  }
 ],
 "metadata": {
  "language_info": {
   "name": "python"
  },
  "orig_nbformat": 4
 },
 "nbformat": 4,
 "nbformat_minor": 2
}
