{
 "cells": [
  {
   "cell_type": "markdown",
   "metadata": {},
   "source": [
    "# Goal: \n",
    "\n",
    "Write a code with the ability to plot the 3G path of the AUV and then you can hover over it and explain the time and date of the AUV at that location "
   ]
  },
  {
   "cell_type": "code",
   "execution_count": 14,
   "metadata": {},
   "outputs": [],
   "source": [
    "#Upload package Ploty \n",
    "\n",
    "import plotly.express as px\n",
    "import plotly.graph_objects as go\n",
    "\n",
    "import numpy as np\n",
    "import matplotlib.pyplot as plt"
   ]
  },
  {
   "cell_type": "code",
   "execution_count": null,
   "metadata": {},
   "outputs": [],
   "source": [
    "#upload the lat and lon for the 3G ESP Path \n",
    "\n",
    "import pandas as pd\n",
    "\n",
    "buoys_loc = pd.read_csv('/Users/arianauwaibi/Downloads/lake_erie_habs_field_sampling_master_coordinates.csv')\n",
    "\n",
    "#Upload the Lat, Long, Dates of the 3G ESP Deployments \n",
    "\n",
    "ESP_loc = pd.read_csv('/Users/arianauwaibi/Downloads/measured_parameter-2.csv')\n",
    "print(ESP_loc)\n"
   ]
  },
  {
   "cell_type": "code",
   "execution_count": null,
   "metadata": {},
   "outputs": [],
   "source": [
    "ESP_array = np."
   ]
  },
  {
   "cell_type": "code",
   "execution_count": 19,
   "metadata": {},
   "outputs": [
    {
     "ename": "SyntaxError",
     "evalue": "invalid syntax (509566326.py, line 6)",
     "output_type": "error",
     "traceback": [
      "\u001b[0;36m  Input \u001b[0;32mIn [19]\u001b[0;36m\u001b[0m\n\u001b[0;31m    lat_2018_ESP = ESP_loc([ :, 6])\u001b[0m\n\u001b[0m                             ^\u001b[0m\n\u001b[0;31mSyntaxError\u001b[0m\u001b[0;31m:\u001b[0m invalid syntax\n"
     ]
    }
   ],
   "source": [
    "#Create variables for Lat, Long, and Date\n",
    "  # G= lat (6 row) & F= lon (5 row) H= date (7 row)  \n",
    "  # number are represented from the phython standard of numbers from 0 -> \n",
    "  # (ROW,COLUMN)\n",
    "\n",
    "lat_2018_ESP = ESP_loc([:,6])\n",
    "lon_2018_ESP = ESP_loc([:,5])\n",
    "date_2018_ESP = ESP_loc([:,7])"
   ]
  }
 ],
 "metadata": {
  "interpreter": {
   "hash": "397704579725e15f5c7cb49fe5f0341eb7531c82d19f2c29d197e8b64ab5776b"
  },
  "kernelspec": {
   "display_name": "Python 3.9.0 64-bit",
   "language": "python",
   "name": "python3"
  },
  "language_info": {
   "codemirror_mode": {
    "name": "ipython",
    "version": 3
   },
   "file_extension": ".py",
   "mimetype": "text/x-python",
   "name": "python",
   "nbconvert_exporter": "python",
   "pygments_lexer": "ipython3",
   "version": "3.10.1"
  },
  "orig_nbformat": 4
 },
 "nbformat": 4,
 "nbformat_minor": 2
}
