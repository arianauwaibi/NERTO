{
 "cells": [
  {
   "cell_type": "code",
   "execution_count": 78,
   "metadata": {},
   "outputs": [],
   "source": [
    "import plotly.graph_objects as go\n",
    "import pandas as pd\n",
    "import plotly.express as px\n",
    "import plotly.io as pio\n",
    "import geopandas as gpd\n",
    "import numpy as np\n",
    "\n",
    "#sk.eyJ1IjoiYXJpYW5hdSIsImEiOiJjbDMxczByb3kxMDE3M2NveTY0bDYzMWs5In0.KyGGefJM8vc0pATAOwrYQQ"
   ]
  },
  {
   "cell_type": "code",
   "execution_count": 82,
   "metadata": {},
   "outputs": [
    {
     "name": "stdout",
     "output_type": "stream",
     "text": [
      "Figure({\n",
      "    'data': [{'hovertemplate': 'x=%{x}<br>y=%{y}<extra></extra>',\n",
      "              'legendgroup': '',\n",
      "              'line': {'color': '#636efa', 'dash': 'solid'},\n",
      "              'marker': {'symbol': 'circle'},\n",
      "              'mode': 'lines',\n",
      "              'name': '',\n",
      "              'orientation': 'v',\n",
      "              'showlegend': False,\n",
      "              'type': 'scatter',\n",
      "              'x': array([1, 2, 3, 4, 5]),\n",
      "              'xaxis': 'x',\n",
      "              'y': array([1, 3, 4, 5, 6]),\n",
      "              'yaxis': 'y'}],\n",
      "    'layout': {'legend': {'tracegroupgap': 0},\n",
      "               'template': '...',\n",
      "               'title': {'text': 'A simple line graph'},\n",
      "               'xaxis': {'anchor': 'y', 'domain': [0.0, 1.0], 'title': {'text': 'x'}},\n",
      "               'yaxis': {'anchor': 'x', 'domain': [0.0, 1.0], 'title': {'text': 'y'}}}\n",
      "})\n"
     ]
    }
   ],
   "source": [
    " x = [1,2,3,4,5]\n",
    "y = [1,3,4,5,6]\n",
    "fig = px.line( x = x ,y = y,title = 'A simple line graph')\n",
    "print(fig)"
   ]
  },
  {
   "cell_type": "code",
   "execution_count": 84,
   "metadata": {},
   "outputs": [
    {
     "ename": "TypeError",
     "evalue": "show() missing 1 required positional argument: 'fig'",
     "output_type": "error",
     "traceback": [
      "\u001b[0;31m---------------------------------------------------------------------------\u001b[0m",
      "\u001b[0;31mTypeError\u001b[0m                                 Traceback (most recent call last)",
      "\u001b[1;32m/Users/arianauwaibi/Library/Mobile Documents/com~apple~CloudDocs/Graduate School Files/NERTO/NERTO github/Ploty_2019.ipynb Cell 3'\u001b[0m in \u001b[0;36m<module>\u001b[0;34m\u001b[0m\n\u001b[1;32m      <a href='vscode-notebook-cell:/Users/arianauwaibi/Library/Mobile%20Documents/com~apple~CloudDocs/Graduate%20School%20Files/NERTO/NERTO%20github/Ploty_2019.ipynb#ch0000015?line=4'>5</a>\u001b[0m fig \u001b[39m=\u001b[39m px\u001b[39m.\u001b[39mline(x\u001b[39m=\u001b[39m[\u001b[39m1\u001b[39m, \u001b[39m2\u001b[39m, \u001b[39m3\u001b[39m], y\u001b[39m=\u001b[39m[\u001b[39m1\u001b[39m, \u001b[39m2\u001b[39m, \u001b[39m3\u001b[39m])\n\u001b[1;32m      <a href='vscode-notebook-cell:/Users/arianauwaibi/Library/Mobile%20Documents/com~apple~CloudDocs/Graduate%20School%20Files/NERTO/NERTO%20github/Ploty_2019.ipynb#ch0000015?line=6'>7</a>\u001b[0m \u001b[39m# showing the plot\u001b[39;00m\n\u001b[0;32m----> <a href='vscode-notebook-cell:/Users/arianauwaibi/Library/Mobile%20Documents/com~apple~CloudDocs/Graduate%20School%20Files/NERTO/NERTO%20github/Ploty_2019.ipynb#ch0000015?line=7'>8</a>\u001b[0m pio\u001b[39m.\u001b[39;49mshow()\n",
      "\u001b[0;31mTypeError\u001b[0m: show() missing 1 required positional argument: 'fig'"
     ]
    }
   ],
   "source": [
    "import plotly.express as px\n",
    "\n",
    "\n",
    "# Creating the Figure instance\n",
    "fig = px.line(x=[1, 2, 3], y=[1, 2, 3])\n",
    "\n",
    "# showing the plot\n",
    "pio.show()\n",
    "\n"
   ]
  },
  {
   "cell_type": "code",
   "execution_count": 4,
   "metadata": {},
   "outputs": [],
   "source": [
    "path_2019 = pd.read_csv('/Users/arianauwaibi/Library/Mobile Documents/com~apple~CloudDocs/Graduate School Files/NERTO/3G ESP Path/2019/measured_parameter-2019.csv')"
   ]
  },
  {
   "cell_type": "code",
   "execution_count": null,
   "metadata": {},
   "outputs": [],
   "source": [
    "fig = px.line_geo(path_2019, lat='measurement__geom.y', lon='measurement__geom.x',hover_name='measurement__instantpoint__timevalue',height=300)\n",
    "\n",
    "fig.update_layout(mapbox_style='stamen-terrain',mapbox_center_lat = 41)\n",
    "\n",
    "fig.show"
   ]
  },
  {
   "cell_type": "code",
   "execution_count": 72,
   "metadata": {},
   "outputs": [
    {
     "ename": "AttributeError",
     "evalue": "'Figure' object has no attribute 'shape'",
     "output_type": "error",
     "traceback": [
      "\u001b[0;31m---------------------------------------------------------------------------\u001b[0m",
      "\u001b[0;31mAttributeError\u001b[0m                            Traceback (most recent call last)",
      "\u001b[1;32m/Users/arianauwaibi/Library/Mobile Documents/com~apple~CloudDocs/Graduate School Files/NERTO/NERTO github/Ploty_2019.ipynb Cell 4'\u001b[0m in \u001b[0;36m<module>\u001b[0;34m\u001b[0m\n\u001b[0;32m----> <a href='vscode-notebook-cell:/Users/arianauwaibi/Library/Mobile%20Documents/com~apple~CloudDocs/Graduate%20School%20Files/NERTO/NERTO%20github/Ploty_2019.ipynb#ch0000014?line=0'>1</a>\u001b[0m fig\u001b[39m.\u001b[39;49mshape\n",
      "\u001b[0;31mAttributeError\u001b[0m: 'Figure' object has no attribute 'shape'"
     ]
    }
   ],
   "source": []
  },
  {
   "cell_type": "code",
   "execution_count": 63,
   "metadata": {},
   "outputs": [
    {
     "name": "stdout",
     "output_type": "stream",
     "text": [
      "       name        lat         lon\n",
      "0  Hokkaido  43°03′51″  141°20′49″\n",
      "1    Miyagi  35°41′22″  139°41′30″\n",
      "2     Aichi  35°10′49″  136°54′24″\n",
      "3     Osaka  34°41′11″  135°31′12″\n",
      "4   Fukuoka  33°36′23″  130°25′05″\n",
      "5   Okinawa  26°12′45″  127°40′52″\n"
     ]
    }
   ],
   "source": [
    "import pandas as pd\n",
    "value = [\n",
    " ['Hokkaido','43°03′51″','141°20′49″'],\n",
    " ['Miyagi','35°41′22″','139°41′30″'],\n",
    " ['Aichi','35°10′49″','136°54′24″'],\n",
    " ['Osaka','34°41′11″','135°31′12″'],\n",
    " ['Fukuoka','33°36′23″','130°25′05″'],\n",
    " ['Okinawa','26°12′45″','127°40′52″'], \n",
    "]\n",
    "df = pd.DataFrame(value,columns=['name','lat','lon'])\n",
    "\n",
    "print(df)"
   ]
  },
  {
   "cell_type": "code",
   "execution_count": 64,
   "metadata": {},
   "outputs": [],
   "source": [
    "import re\n",
    "def to_int(df, col, re_str):\n",
    "    ret = df[col].apply(lambda x: re.findall(re_str, x)[0]).astype(int)\n",
    "    return ret\n",
    "def decompose(df, col):\n",
    "    df[f\"{col}_degree\"] = to_int(df, col, \"(.*[0-9][0-9])°\")\n",
    "    df[f\"{col}_minute\"] = to_int(df, col, \"°(.*[0-9][0-9])′\")\n",
    "    df[f\"{col}_second\"] = to_int(df, col, \"′(.*[0-9][0-9])″\")\n",
    "    return df\n",
    "def convert_coordinate(df, col):\n",
    "    df = decompose(df, col)\n",
    "    df[f\"{col}_coordinate\"] = df[f\"{col}_degree\"] + df[f\"{col}_minute\"] / 60 + df[f\"{col}_second\"] / 60 / 60\n",
    "    return df"
   ]
  },
  {
   "cell_type": "code",
   "execution_count": 67,
   "metadata": {},
   "outputs": [
    {
     "name": "stdout",
     "output_type": "stream",
     "text": [
      "       name        lat         lon  lat_degree  lat_minute  lat_second  \\\n",
      "0  Hokkaido  43°03′51″  141°20′49″          43           3          51   \n",
      "1    Miyagi  35°41′22″  139°41′30″          35          41          22   \n",
      "2     Aichi  35°10′49″  136°54′24″          35          10          49   \n",
      "3     Osaka  34°41′11″  135°31′12″          34          41          11   \n",
      "4   Fukuoka  33°36′23″  130°25′05″          33          36          23   \n",
      "5   Okinawa  26°12′45″  127°40′52″          26          12          45   \n",
      "\n",
      "   lat_coordinate  lon_degree  lon_minute  lon_second  lon_coordinate  \n",
      "0       43.064167         141          20          49      141.346944  \n",
      "1       35.689444         139          41          30      139.691667  \n",
      "2       35.180278         136          54          24      136.906667  \n",
      "3       34.686389         135          31          12      135.520000  \n",
      "4       33.606389         130          25           5      130.418056  \n",
      "5       26.212500         127          40          52      127.681111  \n"
     ]
    }
   ],
   "source": [
    "for col in ['lat', 'lon']:\n",
    "    df = convert_coordinate(df, col)\n",
    "\n",
    "print(df)"
   ]
  }
 ],
 "metadata": {
  "interpreter": {
   "hash": "aee8b7b246df8f9039afb4144a1f6fd8d2ca17a180786b69acc140d282b71a49"
  },
  "kernelspec": {
   "display_name": "Python 3.10.1 64-bit",
   "language": "python",
   "name": "python3"
  },
  "language_info": {
   "codemirror_mode": {
    "name": "ipython",
    "version": 3
   },
   "file_extension": ".py",
   "mimetype": "text/x-python",
   "name": "python",
   "nbconvert_exporter": "python",
   "pygments_lexer": "ipython3",
   "version": "3.10.1"
  },
  "orig_nbformat": 4
 },
 "nbformat": 4,
 "nbformat_minor": 2
}
