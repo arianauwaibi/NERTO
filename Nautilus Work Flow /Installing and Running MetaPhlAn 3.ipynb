{
 "cells": [
  {
   "cell_type": "markdown",
   "metadata": {},
   "source": [
    "# Installing and Running MetaPhlAn 3"
   ]
  },
  {
   "cell_type": "markdown",
   "metadata": {},
   "source": [
    "You can install MetaPhlAn by running"
   ]
  },
  {
   "cell_type": "code",
   "execution_count": null,
   "metadata": {
    "vscode": {
     "languageId": "plaintext"
    }
   },
   "outputs": [],
   "source": [
    "conda install -c bioconda metaphlan"
   ]
  },
  {
   "cell_type": "markdown",
   "metadata": {},
   "source": [
    "It is recommended to create an isolated conda environment and install MetaPhlAn into it."
   ]
  },
  {
   "cell_type": "code",
   "execution_count": null,
   "metadata": {
    "vscode": {
     "languageId": "plaintext"
    }
   },
   "outputs": [],
   "source": [
    "$ conda create --name mpa -c bioconda python=3.7 metaphlan"
   ]
  },
  {
   "cell_type": "markdown",
   "metadata": {},
   "source": [
    "You should activate the mpa environment"
   ]
  },
  {
   "cell_type": "code",
   "execution_count": null,
   "metadata": {
    "vscode": {
     "languageId": "plaintext"
    }
   },
   "outputs": [],
   "source": [
    "conda activate mpa"
   ]
  },
  {
   "cell_type": "markdown",
   "metadata": {},
   "source": [
    "MetaPhlAn needs the clade markers and the database to be downloaded locally. To obtain them:\n",
    "\n"
   ]
  },
  {
   "cell_type": "code",
   "execution_count": null,
   "metadata": {
    "vscode": {
     "languageId": "plaintext"
    }
   },
   "outputs": [],
   "source": [
    "metaphlan --install "
   ]
  },
  {
   "cell_type": "markdown",
   "metadata": {},
   "source": [
    "metaphlan --install --index mpa_v30_CHOCOPhlAn_201901 --bowtie2db <database folder>"
   ]
  },
  {
   "cell_type": "code",
   "execution_count": null,
   "metadata": {
    "vscode": {
     "languageId": "plaintext"
    }
   },
   "outputs": [],
   "source": [
    " metaphlan 763577454-SRS014494-Posterior_fornix.fasta --input_type fasta > 763577454-SRS014494-Posterior_fornix_profile.txt\n",
    "\n",
    " metaphlan 763577454-SRS014459-Stool.fasta --input_type fasta > SRS014459-Stool_profile.txt\n",
    "\n",
    "metaphlan 763577454-SRS014459-Stool.fasta --input_type fasta --nproc 4 > SRS014464-Anterior_nares_profile.txt\n",
    "metaphlan 763577454-SRS014470-Tongue_dorsum.fasta --input_type fasta --nproc 4 > SRS014470-Tongue_dorsum_profile.txt\n",
    "metaphlan 763577454-SRS014472-Buccal_mucosa.fasta --input_type fasta --nproc 4 > SRS014472-Buccal_mucosa_profile.txt\n",
    "metaphlan 763577454-SRS014494-Posterior_fornix.fasta --input_type fasta --nproc 4 > SRS014494-Posterior_fornix_profile.txt"
   ]
  },
  {
   "cell_type": "code",
   "execution_count": null,
   "metadata": {
    "vscode": {
     "languageId": "plaintext"
    }
   },
   "outputs": [],
   "source": [
    "metaphlan Sample_134807_R2_trim.fastq.gz --input_type fasta > Sample_134807_R2_trim_profile.txt"
   ]
  }
 ],
 "metadata": {
  "language_info": {
   "name": "python"
  },
  "orig_nbformat": 4
 },
 "nbformat": 4,
 "nbformat_minor": 2
}
