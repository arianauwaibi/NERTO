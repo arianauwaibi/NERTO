{
 "cells": [
  {
   "cell_type": "code",
   "execution_count": null,
   "metadata": {},
   "outputs": [],
   "source": [
    "qiime tools import \\\n",
    ">   --type 'SampleData[PairedEndSequencesWithQuality]' \\\n",
    ">   --input-path Sample_134807_R2_trim.fastq \\\n",
    ">   --input-format CasavaOneEightSingleLanePerSampleDirFmt \\\n",
    ">   --output-path demux-paired-end.qza"
   ]
  },
  {
   "cell_type": "code",
   "execution_count": null,
   "metadata": {},
   "outputs": [],
   "source": [
    "qiime tools import \\\n",
    ">   --type 'SampleData[PairedEndSequencesWithQuality]' \\\n",
    ">   --input-path /home/jovyan/work Sample_134807_R2_trim.fastq \\\n",
    ">   --input-format CasavaOneEightSingleLanePerSampleDirFmt \\\n",
    ">   --output-path sample1_test.qza"
   ]
  },
  {
   "cell_type": "markdown",
   "metadata": {},
   "source": [
    "https://docs.qiime2.org/2022.2/tutorials/importing/\n",
    "\n",
    "sample input format \n"
   ]
  }
 ],
 "metadata": {
  "language_info": {
   "name": "python"
  },
  "orig_nbformat": 4
 },
 "nbformat": 4,
 "nbformat_minor": 2
}
