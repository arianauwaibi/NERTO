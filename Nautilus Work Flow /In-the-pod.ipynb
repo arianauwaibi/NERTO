{
 "cells": [
  {
   "cell_type": "code",
   "execution_count": null,
   "metadata": {},
   "outputs": [],
   "source": [
    "\n",
    "kubectl exec -it qiime-run -- /bin/bash\n",
    "\n"
   ]
  },
  {
   "cell_type": "code",
   "execution_count": null,
   "metadata": {},
   "outputs": [],
   "source": [
    "#You dont have to enter this \n",
    "\n",
    "#This is the output of the above commond\n",
    "\n",
    "(base) jovyan@qiime2-run:~$"
   ]
  },
  {
   "cell_type": "code",
   "execution_count": null,
   "metadata": {},
   "outputs": [],
   "source": [
    "jupyter notebook --ip='0.0.0.0'"
   ]
  },
  {
   "cell_type": "code",
   "execution_count": null,
   "metadata": {},
   "outputs": [],
   "source": [
    "# Open a new terminal \n",
    "\n",
    "kubectl port-forward qiime-run 8888:8888\n",
    "\n",
    "# Then open one of the links attached\n",
    "\n",
    "#Ex.  \n"
   ]
  },
  {
   "cell_type": "code",
   "execution_count": null,
   "metadata": {},
   "outputs": [],
   "source": [
    "#Close the Pod\n",
    "\n",
    "kubectl delete pod qiime2-run\n",
    "\n"
   ]
  }
 ],
 "metadata": {
  "language_info": {
   "name": "python"
  },
  "orig_nbformat": 4
 },
 "nbformat": 4,
 "nbformat_minor": 2
}
