{
 "cells": [
  {
   "cell_type": "code",
   "execution_count": null,
   "metadata": {},
   "outputs": [],
   "source": [
    "#Opening Natalius start with this website \n",
    "\n",
    "https://portal.nrp-nautilus.io\n",
    "\n",
    "#Sign in "
   ]
  },
  {
   "cell_type": "code",
   "execution_count": null,
   "metadata": {},
   "outputs": [],
   "source": [
    "#Open terminal  \n",
    "    # Make sure the directory is .kube\n",
    "\n",
    "#Begin by excuting a pod \n",
    "\n",
    "#Create a pod file \n",
    "#ex. \n",
    "kubectl create -f tensorflow-pod.yaml\n",
    "kubectl delete pod gpu-pod-example\n",
    "\n",
    "#A pod I would use \n",
    "kubectl create -f qiime2-run.yaml"
   ]
  },
  {
   "cell_type": "code",
   "execution_count": null,
   "metadata": {},
   "outputs": [],
   "source": [
    "# You have to create a file for the pod that includes the name of your pod \n",
    "#it should contain this \n",
    "#USing a text file \n",
    "\n",
    "apiVersion: v1\n",
    "kind: Pod\n",
    "metadata:\n",
    "  name: qiime2-run\n",
    "spec:\n",
    "  containers:\n",
    "  - name: gpu-container\n",
    "    image: gitlab-registry.nrp-nautilus.io/prp/jupyter-stack/tensorflow\n",
    "    command: [\"sleep\", \"infinity\"]\n",
    "    resources:\n",
    "      limits:\n",
    "        nvidia.com/gpu: 1\n",
    "\n",
    "\n",
    "#Run this code once the file is properly saved\n",
    "kubectl create -f qiime2-run.yaml\n",
    "\n",
    "#Verify the status of the pod \n",
    "kubectl get pods\n",
    "\n",
    "# Delete a Pod \n",
    "kubectl delete pod qiime2-run"
   ]
  }
 ],
 "metadata": {
  "language_info": {
   "name": "python"
  },
  "orig_nbformat": 4
 },
 "nbformat": 4,
 "nbformat_minor": 2
}
