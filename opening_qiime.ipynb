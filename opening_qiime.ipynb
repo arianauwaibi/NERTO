{
 "cells": [
  {
   "cell_type": "code",
   "execution_count": null,
   "metadata": {},
   "outputs": [],
   "source": [
    "# Opening qiime2\n",
    "\n",
    "#First Download Miniconda \n",
    "#By going to the website and choosing Miniconda3 Linux 64-bit\n",
    "\n",
    "#Use the download file from miniconda that automatically downloads \n",
    "\n",
    "#Use the below to confirm Conda was installed correctly \n",
    "\n",
    "conda init \n",
    "\n",
    "conda update conda\n",
    "\n",
    "#Ensure you are up to date \n",
    "\n",
    "conda install wget\n",
    "\n",
    "\n",
    "# OPTIONAL CLEANUP\n",
    "rm qiime2-2022.2-py38-linux-conda.yml"
   ]
  },
  {
   "cell_type": "markdown",
   "metadata": {},
   "source": [
    "### Start Here"
   ]
  },
  {
   "cell_type": "code",
   "execution_count": null,
   "metadata": {},
   "outputs": [],
   "source": [
    "#Install QIIME 2 within a conda environment \n",
    "#Clicking Linus 64-bit \n",
    "\n",
    "wget https://data.qiime2.org/distro/core/qiime2-2022.2-py38-linux-conda.yml\n",
    "conda env create -n qiime2-2022.2 --file qiime2-2022.2-py38-linux-conda.yml\n",
    "\n",
    "# OPTIONAL CLEANUP\n",
    "#rm qiime2-2022.2-py38-linux-conda.yml\n"
   ]
  },
  {
   "cell_type": "code",
   "execution_count": null,
   "metadata": {},
   "outputs": [],
   "source": [
    "#Active the Conda Environment \n",
    "\n",
    "conda activate qiime2-2022.2\n",
    "\n",
    "conda deactivate"
   ]
  },
  {
   "cell_type": "code",
   "execution_count": null,
   "metadata": {},
   "outputs": [],
   "source": [
    "#Test your installation\n",
    "\n",
    "qiime --help"
   ]
  }
 ],
 "metadata": {
  "language_info": {
   "name": "python"
  },
  "orig_nbformat": 4
 },
 "nbformat": 4,
 "nbformat_minor": 2
}
